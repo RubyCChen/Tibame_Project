{
 "cells": [
  {
   "cell_type": "markdown",
   "metadata": {},
   "source": [
    "抓取店家名稱"
   ]
  },
  {
   "cell_type": "code",
   "execution_count": 47,
   "metadata": {},
   "outputs": [
    {
     "name": "stdout",
     "output_type": "stream",
     "text": [
      "茗萃飲品\n",
      "木衛二 伊通鑄茶所\n",
      "漫漫點延吉店\n",
      "抿茶 min cha 市民店\n",
      "金五春職人茶飲(伊通店)\n",
      "白巷子(雙連店)\n",
      "一心豪飲 市府店\n",
      "合集良飲 HOPECHA\n",
      "汝菓\n",
      "清心福全中山林森北店\n",
      "瀨戶茶舖\n",
      "茗京萃漢方養生茶飲．天然草本飲．龜鹿膠原\n",
      "進發家-大安店 飲料店\n",
      "COFFEE.TEA.OR -中山形象店\n",
      "茶多酚 自然茶飲\n",
      "富士堂-日本鮮奶茶飲專門店\n",
      "思宅 SI·JAI\n",
      "Hugdayday烈奶茶 青檸香焙烏龍/巨峰葡香冬片/茉白美人奶茶/蜂蜜白玉珍珠/麥香黑糖粉粿\n",
      "上飲號 YIN HAO\n",
      "黛黛茶 DailyDae台北延吉店\n",
      "發發 伊通牧場\n",
      "龜記茗品 光華三創店\n",
      "柚后單品茶港式茶飲專門\n",
      "龜記茗品-忠孝復興旗艦店\n",
      "CoCo都可 南四店\n",
      "SOMA特調飲品 中山概念店 Tea & Mocktail\n",
      "無飲中山店\n",
      "再睡5分鐘 - 台北大安店\n",
      "小制作茶 【創始店】\n",
      "And TEA &TEA 敦北概念店\n",
      "麥吉machi machi\n",
      "七盞茶 中山林森北店\n",
      "微胖手作茶飲-松山長安店\n",
      "上鼎軒-精選茶飲\n",
      "七盞茶 中山吉林店-中山區推薦飲料|200元外送|熱門飲料|手搖飲推薦|下午茶點心|必喝飲品\n",
      "COMEBUYTEA_松菸文創店\n",
      "杯執咖啡茶飲專賣店+\n",
      "COMEBUY台北西松店\n",
      "康青龍 台北長春店\n",
      "50嵐 伊通店\n",
      "Leway 樂の本味\n",
      "先喝道台北誠品站前店\n",
      "毛青茶室 Maochi Tea 松江總店\n",
      "水巷茶弄-台北松江店\n",
      "50嵐 南西店\n",
      "大苑子-台北錦西店\n",
      "清心福全長春二店\n",
      "試試茶Try Try Tea\n",
      "功夫茶 KUNGFUTEA 台北錦州店\n",
      "ODD ONE OUT TEA 敦南概念店\n",
      "老賴茶棧台北光華店\n",
      "樂法 Le Phare - 民生店\n",
      "丑茶飲 總部辦公室\n",
      "清心福全松山民生東店-珍珠奶茶手搖飲料專賣店\n",
      "春陽茶事 台北雙連店\n",
      "七盞茶 中正杭州店\n",
      "50嵐 新生店\n",
      "My嘟蘭手工綠豆沙牛乳 中山遼寧店\n",
      "無飲松山店\n",
      "清心福全大安市民店-珍珠奶茶手搖飲料專賣店\n",
      "CoCo都可 林森北店\n",
      "可不可熟成紅茶-台北錦州店\n",
      "五桐號WooTea 台北市府店\n",
      "麻古茶坊大安復興店\n",
      "迷客夏 臺北忠孝復興店-大安熱門飲料|平價飲品|必喝飲料|網美飲料店|手搖飲推薦|在地推薦飲料\n",
      "台北中山水果茶｜旺飲茶飲｜台農新鮮鳳梨飲品店\n",
      "50嵐 南京三民店\n",
      "50嵐 雙連店\n",
      "天仁茗茶 民權西路店\n",
      "50嵐 SOGO店\n",
      "馥珍圓古早味蛋糕 公司下午茶 外送 飲料\n",
      "好了啦-台北中原店\n",
      "清心福全 大同站前店\n",
      "迷客夏 臺北時代百貨店\n",
      "先前 Drink in 茶飲｜飲料｜咖啡｜炸物｜插座｜桌遊｜包場｜賽事轉播｜投影｜啤酒\n",
      "可不可熟成紅茶-松山饒河店\n",
      "麻古茶坊 錦州店(合江街)\n",
      "迷客夏 臺北錦州店\n",
      "珍煮丹 台北合江店\n",
      "瓷禧茶坊 Teazzi 松菸店\n",
      "麻古茶坊台北小巨蛋店\n",
      "先喝道北車京站店\n",
      "天仁茗茶 誠品信義店\n",
      "再睡5分鐘 - 台北南陽店\n",
      "HOHO DRINKS 河河飲品\n",
      "小巷小象\n",
      "可不可熟成紅茶 台北晴光店\n",
      "迷客夏 臺北農安店\n",
      "鮮果蜜 蜂蜜飲料店\n",
      "龜記茗品-中山晴光店\n",
      "迷客夏Milksha 臺北南陽店\n",
      "想點 想奌\n",
      "三良品茶.pingtea原創手作\n",
      "波諦波諦鮮做飲料-大同區飲料 大同區飲料外送 大同區果汁 雙連飲料 雙連飲料外送 雙連果汁\n",
      "龜記茗品-信義A11店（2樓空橋）\n",
      "茶聚CHAGE台北長安店\n",
      "16g coffee station / 16g 咖啡館\n",
      "COMEBUY_台北南陽店\n",
      "50嵐 信陽店\n",
      "萬波島嶼紅茶 Wanpo Tea Shop 台北大安店\n"
     ]
    }
   ],
   "source": [
    "from selenium.webdriver.support.ui import WebDriverWait\n",
    "from selenium.webdriver.support import expected_conditions as EC\n",
    "from selenium.webdriver.common.by import By\n",
    "from selenium.webdriver.common.keys import Keys\n",
    "from selenium import webdriver\n",
    "from bs4 import BeautifulSoup\n",
    "import pyautogui\n",
    "\n",
    "driver = webdriver.Firefox()\n",
    "url = 'https://www.google.com/maps/@25.0508953,121.5451358,15.71z?authuser=0&entry=ttu'\n",
    "driver.get(url)\n",
    "driver.implicitly_wait(10)  # 添加隱式等待\n",
    "searchbox = driver.find_element(By.ID, \"searchboxinput\")  # 直接使用find_element方法\n",
    "searchbox.clear()\n",
    "key = '飲料'\n",
    "searchbox.send_keys(key)\n",
    "searchbox.send_keys(Keys.ENTER)\n",
    "driver.implicitly_wait(3000)  # 再次添加隱式等待\n",
    "time.sleep(3)\n",
    "\n",
    "pyautogui.moveTo(714, 1066)\n",
    "time.sleep(10)\n",
    "\n",
    "\n",
    "\n",
    "\n",
    "data = driver.page_source  # 直接獲取頁面數據\n",
    "soup = BeautifulSoup(data, 'html.parser')  # 指定解析器\n",
    "\n",
    "# 找到包含店家名稱的標籤\n",
    "store_tag = soup.find_all('div', {'class': 'qBF1Pd fontHeadlineSmall'})\n",
    "\n",
    "# Find all of the elements in the ResultSet object with the class 'qBF1Pd fontHeadlineSmall'\n",
    "store_tags = soup.find_all('div', {'class': 'qBF1Pd fontHeadlineSmall'})\n",
    "\n",
    "# If the list of elements is not empty, get the text from each element and print it\n",
    "if store_tags is not None:\n",
    "    for store_tag in store_tags:\n",
    "        store_name = store_tag.text.strip()\n",
    "        print(store_name)\n",
    "\n",
    "\n",
    "\n",
    "driver.quit()\n",
    "\n",
    "# 鼠标当前位置 (x, y): 711 1065\n",
    "# 鼠标当前顔色: (105, 105, 105)\n",
    "# 鼠标当前位置 (x, y): 711 1065\n",
    "# 鼠标当前顔色: (236, 236, 236)"
   ]
  },
  {
   "cell_type": "markdown",
   "metadata": {},
   "source": [
    "抓取地址"
   ]
  },
  {
   "cell_type": "code",
   "execution_count": 46,
   "metadata": {},
   "outputs": [
    {
     "name": "stdout",
     "output_type": "stream",
     "text": [
      "['4.8(221)', '冰品飲料店 · 赤峰街81號營業中 ⋅ 結束營業時間：21:00 · 02 2558 5881', '冰品飲料店 · 赤峰街81號', '營業中 ⋅ 結束營業時間：21:00 · 02 2558 5881', '4.2(1,039)', '冰品飲料店 · 伊通街68-2號即將打烊：18:00 ⋅ 開始營業時間：週日12:00 · 02 2502 8635', '冰品飲料店 · 伊通街68-2號', '即將打烊：18:00 ⋅ 開始營業時間：週日12:00 · 02 2502 8635', '4.6(243)', '冰品飲料店 · 延吉街120號營業中 ⋅ 結束營業時間：21:15 · 02 8771 3158', '冰品飲料店 · 延吉街120號', '營業中 ⋅ 結束營業時間：21:15 · 02 8771 3158', '4.5(310)', '冰品飲料店 · 市民大道四段11號營業中 ⋅ 結束營業時間：20:00 · 02 8771 6682', '冰品飲料店 · 市民大道四段11號', '營業中 ⋅ 結束營業時間：20:00 · 02 8771 6682', '4.9(1,451)', '冰品飲料店 · 伊通街112-1號營業中 ⋅ 結束營業時間：18:30 · 02 2516 3658', '冰品飲料店 · 伊通街112-1號', '營業中 ⋅ 結束營業時間：18:30 · 02 2516 3658', '4.0(285)', '冰品飲料店 · 民生西路102號營業中 ⋅ 結束營業時間：22:00 · 02 2555 7551', '冰品飲料店 · 民生西路102號', '營業中 ⋅ 結束營業時間：22:00 · 02 2555 7551', '4.4(538)', '冰品飲料店 · 基隆路一段147巷8號已打烊 ⋅ 開始營業時間：週一11:00 · 02 2749 2367', '冰品飲料店 · 基隆路一段147巷8號', '已打烊 ⋅ 開始營業時間：週一11:00 · 02 2749 2367']\n"
     ]
    }
   ],
   "source": [
    "from selenium.webdriver.support.ui import WebDriverWait\n",
    "from selenium.webdriver.support import expected_conditions as EC\n",
    "from selenium.webdriver.common.by import By\n",
    "from selenium.webdriver.common.keys import Keys\n",
    "from selenium import webdriver\n",
    "from bs4 import BeautifulSoup\n",
    "import pyautogui\n",
    "\n",
    "driver = webdriver.Firefox()\n",
    "url = 'https://www.google.com/maps/@25.0508953,121.5451358,15.71z?authuser=0&entry=ttu'\n",
    "driver.get(url)\n",
    "driver.implicitly_wait(10)  # 添加隱式等待\n",
    "searchbox = driver.find_element(By.ID, \"searchboxinput\")  # 直接使用find_element方法\n",
    "searchbox.clear()\n",
    "key = '飲料'\n",
    "searchbox.send_keys(key)\n",
    "searchbox.send_keys(Keys.ENTER)\n",
    "driver.implicitly_wait(3000)  # 再次添加隱式等待\n",
    "time.sleep(3)\n",
    "\n",
    "pyautogui.moveTo(714, 1066)\n",
    "time.sleep(10)\n",
    "\n",
    "\n",
    "\n",
    "\n",
    "data = driver.page_source  # 直接獲取頁面數據\n",
    "soup = BeautifulSoup(data, 'html.parser')  # 指定解析器\n",
    "\n",
    "# 找到店家地址的標籤\n",
    "# store_tag = soup.find('div', {'class': 'W4Efsd'})\n",
    "# print(store_tag)\n",
    "\n",
    "# Find all of the elements in the ResultSet object with the class 'qBF1Pd fontHeadlineSmall'\n",
    "store_tags = soup.find_all('div', {'class': 'W4Efsd'})\n",
    "store_date = []\n",
    "# If the list of elements is not empty, get the text from each element and print it\n",
    "if store_tags is not None:\n",
    "    for store_tag in store_tags:\n",
    "        store_name = store_tag.text.strip()\n",
    "        store_date.append(store_name)\n",
    "print(store_date)\n",
    "\n",
    "\n",
    "\n",
    "driver.quit()"
   ]
  },
  {
   "cell_type": "code",
   "execution_count": 40,
   "metadata": {},
   "outputs": [
    {
     "data": {
      "text/plain": [
       "<bound method PageElement.get_text of <div class=\"W4Efsd\"><div class=\"AJB7ye\"><span class=\"wZrhX\"></span> <span class=\"e4rVHe fontBodyMedium\"><span aria-label=\"4.8 星級 221 則評論\" class=\"ZkP5Je\" role=\"img\"><span aria-hidden=\"true\" class=\"MW4etd\">4.8</span><div class=\"QBUL8c\"></div><div class=\"QBUL8c\"></div><div class=\"QBUL8c\"></div><div class=\"QBUL8c\"></div><div class=\"QBUL8c\"></div><span aria-hidden=\"true\" class=\"UY7F9\">(221)</span></span></span></div></div>>"
      ]
     },
     "execution_count": 40,
     "metadata": {},
     "output_type": "execute_result"
    }
   ],
   "source": [
    "store_tag.getText"
   ]
  },
  {
   "cell_type": "code",
   "execution_count": 16,
   "metadata": {},
   "outputs": [
    {
     "ename": "NameError",
     "evalue": "name 'requests' is not defined",
     "output_type": "error",
     "traceback": [
      "\u001b[1;31m---------------------------------------------------------------------------\u001b[0m",
      "\u001b[1;31mNameError\u001b[0m                                 Traceback (most recent call last)",
      "\u001b[1;32mc:\\Tibame data\\PyETL 上課資料\\env-Py3.11_PyETL\\googel_map\\test.ipynb 儲存格 3\u001b[0m line \u001b[0;36m4\n\u001b[0;32m     <a href='vscode-notebook-cell:/c%3A/Tibame%20data/PyETL%20%E4%B8%8A%E8%AA%B2%E8%B3%87%E6%96%99/env-Py3.11_PyETL/googel_map/test.ipynb#W2sZmlsZQ%3D%3D?line=39'>40</a>\u001b[0m pyautogui\u001b[39m.\u001b[39mscroll(\u001b[39m-\u001b[39m\u001b[39m1000\u001b[39m )\n\u001b[0;32m     <a href='vscode-notebook-cell:/c%3A/Tibame%20data/PyETL%20%E4%B8%8A%E8%AA%B2%E8%B3%87%E6%96%99/env-Py3.11_PyETL/googel_map/test.ipynb#W2sZmlsZQ%3D%3D?line=40'>41</a>\u001b[0m time\u001b[39m.\u001b[39msleep(\u001b[39m2\u001b[39m)\n\u001b[1;32m---> <a href='vscode-notebook-cell:/c%3A/Tibame%20data/PyETL%20%E4%B8%8A%E8%AA%B2%E8%B3%87%E6%96%99/env-Py3.11_PyETL/googel_map/test.ipynb#W2sZmlsZQ%3D%3D?line=42'>43</a>\u001b[0m response \u001b[39m=\u001b[39m requests\u001b[39m.\u001b[39mget(url)\n\u001b[0;32m     <a href='vscode-notebook-cell:/c%3A/Tibame%20data/PyETL%20%E4%B8%8A%E8%AA%B2%E8%B3%87%E6%96%99/env-Py3.11_PyETL/googel_map/test.ipynb#W2sZmlsZQ%3D%3D?line=44'>45</a>\u001b[0m soup \u001b[39m=\u001b[39m BeautifulSoup(response\u001b[39m.\u001b[39mcontent, \u001b[39m\"\u001b[39m\u001b[39mhtml.parser\u001b[39m\u001b[39m\"\u001b[39m)\n\u001b[0;32m     <a href='vscode-notebook-cell:/c%3A/Tibame%20data/PyETL%20%E4%B8%8A%E8%AA%B2%E8%B3%87%E6%96%99/env-Py3.11_PyETL/googel_map/test.ipynb#W2sZmlsZQ%3D%3D?line=46'>47</a>\u001b[0m results \u001b[39m=\u001b[39m soup\u001b[39m.\u001b[39mfind_all(\u001b[39m\"\u001b[39m\u001b[39mspan\u001b[39m\u001b[39m\"\u001b[39m, class_\u001b[39m=\u001b[39m\u001b[39m\"\u001b[39m\u001b[39mHlvSq\u001b[39m\u001b[39m\"\u001b[39m)\n",
      "\u001b[1;31mNameError\u001b[0m: name 'requests' is not defined"
     ]
    }
   ],
   "source": [
    "from bs4 import BeautifulSoup\n",
    "from selenium import webdriver\n",
    "from selenium.webdriver.common.by import By\n",
    "from selenium.webdriver.support.ui import WebDriverWait\n",
    "from selenium.webdriver.support import expected_conditions as EC\n",
    "import time\n",
    "\n",
    "driver = webdriver.Firefox()\n",
    "url = 'https://www.google.com/maps/@25.0508953,121.5451358,15.71z?authuser=0&entry=ttu'\n",
    "driver.get(url)\n",
    "driver.implicitly_wait(10)  # 添加隱式等待\n",
    "searchbox = driver.find_element(By.ID, \"searchboxinput\")  # 直接使用find_element方法\n",
    "searchbox.clear()\n",
    "key = '飲料'\n",
    "searchbox.send_keys(key)\n",
    "searchbox.send_keys(Keys.ENTER)\n",
    "driver.implicitly_wait(3000)  # 再次添加隱式等待\n",
    "time.sleep(3)\n",
    "# 等待店家資訊欄出現\n",
    "\n",
    "# wait = WebDriverWait(driver, 10)\n",
    "# element = wait.until(EC.presence_of_element_located((By.CLASS_NAME, 'section-layout section-scrollbox scrollable-y scrollable-show')))\n",
    "\n",
    "# 滾動店家資訊欄# 滾動店家資訊欄\n",
    "# scroll_times = 10  # 滾動次數\n",
    "# scroll_delay = 1  # 每次滾動後的延遲時間（秒）\n",
    "\n",
    "# for _ in range(scroll_times):\n",
    "#     driver.execute_script('arguments[0].scrollTop = arguments[0].scrollHeight', element)\n",
    "#     time.sleep(scroll_delay)\n",
    "\n",
    "import pyautogui\n",
    "\n",
    "# 移動到指定的點\n",
    "pyautogui.moveTo(714, 1066 ,duration=0.25)\n",
    "\n",
    "time.sleep(1)\n",
    "while True:\n",
    "    # 滾動滑鼠滾輪\n",
    "    pyautogui.scroll(-1000 )\n",
    "    time.sleep(2)\n",
    "\n",
    "    response = requests.get(url)\n",
    "\n",
    "    soup = BeautifulSoup(response.content, \"html.parser\")\n",
    "\n",
    "    results = soup.find_all(\"span\", class_=\"HlvSq\")\n",
    "\n",
    "    for result in results:\n",
    "        print(result.text)\n",
    "\n"
   ]
  },
  {
   "cell_type": "code",
   "execution_count": 4,
   "metadata": {},
   "outputs": [
    {
     "ename": "AttributeError",
     "evalue": "module 'pyautogui' has no attribute 'on_click'",
     "output_type": "error",
     "traceback": [
      "\u001b[1;31m---------------------------------------------------------------------------\u001b[0m",
      "\u001b[1;31mAttributeError\u001b[0m                            Traceback (most recent call last)",
      "\u001b[1;32mc:\\Tibame data\\PyETL 上課資料\\env-Py3.11_PyETL\\googel_map\\test.ipynb 儲存格 4\u001b[0m line \u001b[0;36m1\n\u001b[0;32m     <a href='vscode-notebook-cell:/c%3A/Tibame%20data/PyETL%20%E4%B8%8A%E8%AA%B2%E8%B3%87%E6%96%99/env-Py3.11_PyETL/googel_map/test.ipynb#X11sZmlsZQ%3D%3D?line=12'>13</a>\u001b[0m     \u001b[39mprint\u001b[39m(\u001b[39mf\u001b[39m\u001b[39m'\u001b[39m\u001b[39m顏色: \u001b[39m\u001b[39m{\u001b[39;00mhex_color\u001b[39m}\u001b[39;00m\u001b[39m, 位置: \u001b[39m\u001b[39m{\u001b[39;00mposition\u001b[39m}\u001b[39;00m\u001b[39m'\u001b[39m)\n\u001b[0;32m     <a href='vscode-notebook-cell:/c%3A/Tibame%20data/PyETL%20%E4%B8%8A%E8%AA%B2%E8%B3%87%E6%96%99/env-Py3.11_PyETL/googel_map/test.ipynb#X11sZmlsZQ%3D%3D?line=14'>15</a>\u001b[0m \u001b[39m# 監聽螢幕上的點擊事件\u001b[39;00m\n\u001b[1;32m---> <a href='vscode-notebook-cell:/c%3A/Tibame%20data/PyETL%20%E4%B8%8A%E8%AA%B2%E8%B3%87%E6%96%99/env-Py3.11_PyETL/googel_map/test.ipynb#X11sZmlsZQ%3D%3D?line=15'>16</a>\u001b[0m pyautogui\u001b[39m.\u001b[39;49mon_click(on_click)\n\u001b[0;32m     <a href='vscode-notebook-cell:/c%3A/Tibame%20data/PyETL%20%E4%B8%8A%E8%AA%B2%E8%B3%87%E6%96%99/env-Py3.11_PyETL/googel_map/test.ipynb#X11sZmlsZQ%3D%3D?line=17'>18</a>\u001b[0m \u001b[39mwhile\u001b[39;00m \u001b[39mTrue\u001b[39;00m:\n\u001b[0;32m     <a href='vscode-notebook-cell:/c%3A/Tibame%20data/PyETL%20%E4%B8%8A%E8%AA%B2%E8%B3%87%E6%96%99/env-Py3.11_PyETL/googel_map/test.ipynb#X11sZmlsZQ%3D%3D?line=18'>19</a>\u001b[0m     \u001b[39m# 保持程式運行\u001b[39;00m\n\u001b[0;32m     <a href='vscode-notebook-cell:/c%3A/Tibame%20data/PyETL%20%E4%B8%8A%E8%AA%B2%E8%B3%87%E6%96%99/env-Py3.11_PyETL/googel_map/test.ipynb#X11sZmlsZQ%3D%3D?line=19'>20</a>\u001b[0m     \u001b[39mpass\u001b[39;00m\n",
      "\u001b[1;31mAttributeError\u001b[0m: module 'pyautogui' has no attribute 'on_click'"
     ]
    }
   ],
   "source": [
    "import pyautogui\n",
    "\n",
    "def on_click(x, y, button='left', pressed):\n",
    "    # 取得點擊位置的顏色\n",
    "    color = pyautogui.color(x, y)\n",
    "\n",
    "    # 將顏色轉換為十六進制\n",
    "    hex_color = '#%02x%02x%02x' % color\n",
    "\n",
    "    # 取得點擊位置的座標\n",
    "    position = f'({x}, {y})'\n",
    "\n",
    "    print(f'顏色: {hex_color}, 位置: {position}')\n",
    "\n",
    "# 監聽螢幕上的點擊事件\n",
    "pyautogui.mouseDown(on_click)\n",
    "\n",
    "while True:\n",
    "    # 保持程式運行\n",
    "    pass\n",
    "\n"
   ]
  },
  {
   "cell_type": "code",
   "execution_count": null,
   "metadata": {},
   "outputs": [],
   "source": [
    "soup"
   ]
  },
  {
   "cell_type": "code",
   "execution_count": 40,
   "metadata": {},
   "outputs": [],
   "source": [
    "po = soup.find_all('h3', class='ariaLabel')\n",
    "for p in po:\n",
    "    print(p.text)"
   ]
  },
  {
   "cell_type": "code",
   "execution_count": 18,
   "metadata": {},
   "outputs": [
    {
     "name": "stdout",
     "output_type": "stream",
     "text": [
      "鼠标当前位置 (x, y): 833 545\n",
      "鼠标当前顔色: (62, 64, 64)\n",
      "鼠标当前位置 (x, y): 689 1075\n",
      "鼠标当前顔色: (254, 254, 254)\n",
      "鼠标当前位置 (x, y): 713 1067\n",
      "鼠标当前顔色: (105, 105, 105)\n",
      "鼠标当前位置 (x, y): 711 1065\n",
      "鼠标当前顔色: (105, 105, 105)\n",
      "鼠标当前位置 (x, y): 711 1065\n",
      "鼠标当前顔色: (105, 105, 105)\n",
      "鼠标当前位置 (x, y): 711 1065\n",
      "鼠标当前顔色: (236, 236, 236)\n",
      "鼠标当前位置 (x, y): 711 1065\n",
      "鼠标当前顔色: (236, 236, 236)\n",
      "鼠标当前位置 (x, y): 712 1063\n",
      "鼠标当前顔色: (105, 105, 105)\n",
      "鼠标当前位置 (x, y): 446 967\n",
      "鼠标当前顔色: (167, 167, 168)\n",
      "鼠标当前位置 (x, y): 379 964\n",
      "鼠标当前顔色: (121, 122, 124)\n",
      "鼠标当前位置 (x, y): 359 969\n",
      "鼠标当前顔色: (102, 103, 105)\n",
      "鼠标当前位置 (x, y): 656 969\n",
      "鼠标当前顔色: (255, 255, 255)\n"
     ]
    },
    {
     "ename": "KeyboardInterrupt",
     "evalue": "",
     "output_type": "error",
     "traceback": [
      "\u001b[1;31m---------------------------------------------------------------------------\u001b[0m",
      "\u001b[1;31mKeyboardInterrupt\u001b[0m                         Traceback (most recent call last)",
      "\u001b[1;32mc:\\Tibame data\\PyETL 上課資料\\env-Py3.11_PyETL\\googel_map\\test.ipynb 儲存格 7\u001b[0m line \u001b[0;36m1\n\u001b[0;32m      <a href='vscode-notebook-cell:/c%3A/Tibame%20data/PyETL%20%E4%B8%8A%E8%AA%B2%E8%B3%87%E6%96%99/env-Py3.11_PyETL/googel_map/test.ipynb#W5sZmlsZQ%3D%3D?line=7'>8</a>\u001b[0m \u001b[39mprint\u001b[39m(\u001b[39m\"\u001b[39m\u001b[39m鼠标当前位置 (x, y):\u001b[39m\u001b[39m\"\u001b[39m, x, y)\n\u001b[0;32m      <a href='vscode-notebook-cell:/c%3A/Tibame%20data/PyETL%20%E4%B8%8A%E8%AA%B2%E8%B3%87%E6%96%99/env-Py3.11_PyETL/googel_map/test.ipynb#W5sZmlsZQ%3D%3D?line=8'>9</a>\u001b[0m \u001b[39mprint\u001b[39m(\u001b[39m\"\u001b[39m\u001b[39m鼠标当前顔色:\u001b[39m\u001b[39m\"\u001b[39m, pixel)\n\u001b[1;32m---> <a href='vscode-notebook-cell:/c%3A/Tibame%20data/PyETL%20%E4%B8%8A%E8%AA%B2%E8%B3%87%E6%96%99/env-Py3.11_PyETL/googel_map/test.ipynb#W5sZmlsZQ%3D%3D?line=9'>10</a>\u001b[0m time\u001b[39m.\u001b[39msleep(\u001b[39m1\u001b[39m)  \u001b[39m# 等待1秒钟再次获取位置\u001b[39;00m\n",
      "\u001b[1;31mKeyboardInterrupt\u001b[0m: "
     ]
    }
   ],
   "source": [
    "import pyautogui\n",
    "import time\n",
    "\n",
    "\n",
    "while True:\n",
    "    x, y = pyautogui.position()\n",
    "    pixel = pyautogui.pixel(x, y)\n",
    "    print(\"鼠标当前位置 (x, y):\", x, y)\n",
    "    print(\"鼠标当前顔色:\", pixel)\n",
    "    time.sleep(1)  # 等待1秒钟再次获取位置\n",
    "    \n"
   ]
  },
  {
   "cell_type": "code",
   "execution_count": null,
   "metadata": {},
   "outputs": [],
   "source": [
    "pip install --upgrade pyautogui"
   ]
  },
  {
   "cell_type": "code",
   "execution_count": 4,
   "metadata": {},
   "outputs": [
    {
     "ename": "AttributeError",
     "evalue": "module 'pyautogui' has no attribute 'listen'",
     "output_type": "error",
     "traceback": [
      "\u001b[1;31m---------------------------------------------------------------------------\u001b[0m",
      "\u001b[1;31mAttributeError\u001b[0m                            Traceback (most recent call last)",
      "\u001b[1;32mc:\\Tibame data\\PyETL 上課資料\\env-Py3.11_PyETL\\googel_map\\test.ipynb 儲存格 9\u001b[0m line \u001b[0;36m1\n\u001b[0;32m     <a href='vscode-notebook-cell:/c%3A/Tibame%20data/PyETL%20%E4%B8%8A%E8%AA%B2%E8%B3%87%E6%96%99/env-Py3.11_PyETL/googel_map/test.ipynb#W6sZmlsZQ%3D%3D?line=11'>12</a>\u001b[0m         \u001b[39mprint\u001b[39m(\u001b[39mf\u001b[39m\u001b[39m'\u001b[39m\u001b[39m顏色: \u001b[39m\u001b[39m{\u001b[39;00mhex_color\u001b[39m}\u001b[39;00m\u001b[39m, 位置: \u001b[39m\u001b[39m{\u001b[39;00mposition\u001b[39m}\u001b[39;00m\u001b[39m'\u001b[39m)\n\u001b[0;32m     <a href='vscode-notebook-cell:/c%3A/Tibame%20data/PyETL%20%E4%B8%8A%E8%AA%B2%E8%B3%87%E6%96%99/env-Py3.11_PyETL/googel_map/test.ipynb#W6sZmlsZQ%3D%3D?line=13'>14</a>\u001b[0m \u001b[39m# 監聽螢幕上的點擊事件\u001b[39;00m\n\u001b[1;32m---> <a href='vscode-notebook-cell:/c%3A/Tibame%20data/PyETL%20%E4%B8%8A%E8%AA%B2%E8%B3%87%E6%96%99/env-Py3.11_PyETL/googel_map/test.ipynb#W6sZmlsZQ%3D%3D?line=14'>15</a>\u001b[0m pyautogui\u001b[39m.\u001b[39;49mlisten(on_click)\n\u001b[0;32m     <a href='vscode-notebook-cell:/c%3A/Tibame%20data/PyETL%20%E4%B8%8A%E8%AA%B2%E8%B3%87%E6%96%99/env-Py3.11_PyETL/googel_map/test.ipynb#W6sZmlsZQ%3D%3D?line=16'>17</a>\u001b[0m \u001b[39m# 保持程式運行\u001b[39;00m\n\u001b[0;32m     <a href='vscode-notebook-cell:/c%3A/Tibame%20data/PyETL%20%E4%B8%8A%E8%AA%B2%E8%B3%87%E6%96%99/env-Py3.11_PyETL/googel_map/test.ipynb#W6sZmlsZQ%3D%3D?line=17'>18</a>\u001b[0m \u001b[39mwhile\u001b[39;00m \u001b[39mTrue\u001b[39;00m:\n",
      "\u001b[1;31mAttributeError\u001b[0m: module 'pyautogui' has no attribute 'listen'"
     ]
    }
   ],
   "source": [
    "import pyautogui\n",
    "\n",
    "def on_click(x, y, button, pressed):\n",
    "    if pressed:\n",
    "        # 獲取滑鼠點擊位置\n",
    "        position = (x, y)\n",
    "        \n",
    "        # 獲取滑鼠點擊位置的顏色\n",
    "        pixel_color = pyautogui.pixel(x, y)\n",
    "        hex_color = pyautogui.pixelToHex(pixel_color)\n",
    "        \n",
    "        print(f'顏色: {hex_color}, 位置: {position}')\n",
    "\n",
    "# 監聽螢幕上的點擊事件\n",
    "pyautogui.listen(on_click)\n",
    "\n",
    "# 保持程式運行\n",
    "while True:\n",
    "    pass\n",
    "\n",
    "\n",
    "\n"
   ]
  },
  {
   "cell_type": "code",
   "execution_count": 64,
   "metadata": {},
   "outputs": [],
   "source": [
    "pyautogui.moveTo(497, 730)\n",
    "time.sleep(1)\n",
    "# 滾動滑鼠滾輪\n",
    "pyautogui.scroll(-100)\n",
    "time.sleep(2)"
   ]
  }
 ],
 "metadata": {
  "kernelspec": {
   "display_name": "env-Py3.11_PyETL",
   "language": "python",
   "name": "python3"
  },
  "language_info": {
   "codemirror_mode": {
    "name": "ipython",
    "version": 3
   },
   "file_extension": ".py",
   "mimetype": "text/x-python",
   "name": "python",
   "nbconvert_exporter": "python",
   "pygments_lexer": "ipython3",
   "version": "3.11.5"
  }
 },
 "nbformat": 4,
 "nbformat_minor": 2
}
